{
 "cells": [
  {
   "cell_type": "code",
   "execution_count": 4,
   "metadata": {},
   "outputs": [
    {
     "name": "stdout",
     "output_type": "stream",
     "text": [
      "Hello, Anusha\n"
     ]
    }
   ],
   "source": [
    "name = input(\"what is your name? \")\n",
    "print(\"Hello, \" + name)"
   ]
  }
 ],
 "metadata": {
  "interpreter": {
   "hash": "6b20e93dd0df92c891b689e072c53fd6cb5912abac25dcd0a67ff9e2de819f04"
  },
  "kernelspec": {
   "display_name": "Python 3.10.2 64-bit",
   "language": "python",
   "name": "python3"
  },
  "language_info": {
   "codemirror_mode": {
    "name": "ipython",
    "version": 3
   },
   "file_extension": ".py",
   "mimetype": "text/x-python",
   "name": "python",
   "nbconvert_exporter": "python",
   "pygments_lexer": "ipython3",
   "version": "3.10.2"
  },
  "orig_nbformat": 4
 },
 "nbformat": 4,
 "nbformat_minor": 2
}
